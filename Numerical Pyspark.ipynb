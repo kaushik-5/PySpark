{
 "cells": [
  {
   "cell_type": "markdown",
   "metadata": {},
   "source": [
    "For numerical alone\n",
    "1).sum()\n",
    "2).mean()\n",
    "3).stdev()"
   ]
  },
  {
   "cell_type": "code",
   "execution_count": null,
   "metadata": {},
   "outputs": [],
   "source": [
    "# Write num file"
   ]
  },
  {
   "cell_type": "code",
   "execution_count": 74,
   "metadata": {},
   "outputs": [
    {
     "name": "stdout",
     "output_type": "stream",
     "text": [
      "Writing num.txt\n"
     ]
    }
   ],
   "source": [
    "%%writefile num.txt\n",
    "#Customer State    Age         Amount\n",
    "100       NY       13          100.00\n",
    "700       TX       20          450.00\n",
    "203       CA       21          200.00\n",
    "202       CA       31          500.00\n",
    "101       NY       70          750.00\n",
    "202       TX       45          200.00"
   ]
  },
  {
   "cell_type": "code",
   "execution_count": null,
   "metadata": {},
   "outputs": [],
   "source": [
    "# Importing SparkContext"
   ]
  },
  {
   "cell_type": "code",
   "execution_count": 1,
   "metadata": {},
   "outputs": [],
   "source": [
    "from pyspark import SparkContext"
   ]
  },
  {
   "cell_type": "code",
   "execution_count": 2,
   "metadata": {},
   "outputs": [],
   "source": [
    "sc=SparkContext()"
   ]
  },
  {
   "cell_type": "code",
   "execution_count": 51,
   "metadata": {},
   "outputs": [],
   "source": [
    "rdd=sc.textFile('services1.txt') # Convert text file to RDD's"
   ]
  },
  {
   "cell_type": "code",
   "execution_count": 52,
   "metadata": {},
   "outputs": [
    {
     "data": {
      "text/plain": [
       "['#Customer State    Age         Amount',\n",
       " '100       NY       13          100.00',\n",
       " '700       TX       20          450.00',\n",
       " '203       CA       21          200.00',\n",
       " '202       CA       31          500.00',\n",
       " '101       NY       70          750.00',\n",
       " '202       TX       45          200.00']"
      ]
     },
     "execution_count": 52,
     "metadata": {},
     "output_type": "execute_result"
    }
   ],
   "source": [
    "rdd.collect()"
   ]
  },
  {
   "cell_type": "code",
   "execution_count": 53,
   "metadata": {},
   "outputs": [],
   "source": [
    "hash_removal=rdd.map(lambda line: line[1:] if line[0]=='#' else line) # Hash removal from header"
   ]
  },
  {
   "cell_type": "code",
   "execution_count": 54,
   "metadata": {},
   "outputs": [],
   "source": [
    "split=hash_removal.map(lambda line: line.split()) # Splitting the data on spaces"
   ]
  },
  {
   "cell_type": "code",
   "execution_count": 55,
   "metadata": {},
   "outputs": [
    {
     "data": {
      "text/plain": [
       "[['Customer', 'State', 'Age', 'Amount'],\n",
       " ['100', 'NY', '13', '100.00'],\n",
       " ['700', 'TX', '20', '450.00'],\n",
       " ['203', 'CA', '21', '200.00'],\n",
       " ['202', 'CA', '31', '500.00'],\n",
       " ['101', 'NY', '70', '750.00'],\n",
       " ['202', 'TX', '45', '200.00']]"
      ]
     },
     "execution_count": 55,
     "metadata": {},
     "output_type": "execute_result"
    }
   ],
   "source": [
    "split.collect()"
   ]
  },
  {
   "cell_type": "code",
   "execution_count": 56,
   "metadata": {},
   "outputs": [],
   "source": [
    "selected_data = split.map(lambda lst: (lst[1], lst[2], lst[3])) # Only collect the needed columns"
   ]
  },
  {
   "cell_type": "code",
   "execution_count": 63,
   "metadata": {},
   "outputs": [
    {
     "data": {
      "text/plain": [
       "[('State', 'Age', 'Amount'),\n",
       " ('NY', '13', '100.00'),\n",
       " ('TX', '20', '450.00'),\n",
       " ('CA', '21', '200.00'),\n",
       " ('CA', '31', '500.00'),\n",
       " ('NY', '70', '750.00'),\n",
       " ('TX', '45', '200.00')]"
      ]
     },
     "execution_count": 63,
     "metadata": {},
     "output_type": "execute_result"
    }
   ],
   "source": [
    "selected_data.collect()"
   ]
  },
  {
   "cell_type": "code",
   "execution_count": 64,
   "metadata": {},
   "outputs": [],
   "source": [
    "data_without_header = selected_data.filter(lambda line: not line[0]=='State') # remove the header"
   ]
  },
  {
   "cell_type": "code",
   "execution_count": 46,
   "metadata": {},
   "outputs": [
    {
     "data": {
      "text/plain": [
       "[('State', 'Age', 'Amount'),\n",
       " ('NY', '13', '100.00'),\n",
       " ('TX', '20', '450.00'),\n",
       " ('CA', '21', '200.00'),\n",
       " ('CA', '31', '500.00'),\n",
       " ('NY', '70', '750.00'),\n",
       " ('TX', '45', '200.00')]"
      ]
     },
     "execution_count": 46,
     "metadata": {},
     "output_type": "execute_result"
    }
   ],
   "source": [
    "selected_data.collect()"
   ]
  },
  {
   "cell_type": "code",
   "execution_count": 65,
   "metadata": {},
   "outputs": [
    {
     "data": {
      "text/plain": [
       "[('NY', '13', '100.00'),\n",
       " ('TX', '20', '450.00'),\n",
       " ('CA', '21', '200.00'),\n",
       " ('CA', '31', '500.00'),\n",
       " ('NY', '70', '750.00'),\n",
       " ('TX', '45', '200.00')]"
      ]
     },
     "execution_count": 65,
     "metadata": {},
     "output_type": "execute_result"
    }
   ],
   "source": [
    "data_without_header.collect()"
   ]
  },
  {
   "cell_type": "code",
   "execution_count": null,
   "metadata": {},
   "outputs": [],
   "source": [
    "# Calculate Standard Deviation of age"
   ]
  },
  {
   "cell_type": "code",
   "execution_count": 70,
   "metadata": {},
   "outputs": [
    {
     "name": "stdout",
     "output_type": "stream",
     "text": [
      "Standard Deviation of Age: 19.275776393067947\n"
     ]
    }
   ],
   "source": [
    "import numpy as np\n",
    "ages = np.array(data_without_header.map(lambda x: float(x[1])).collect())\n",
    "\n",
    "# Calculate standard deviation using NumPy\n",
    "std_dev = np.std(ages)\n",
    "\n",
    "print(\"Standard Deviation of Age:\", std_dev)"
   ]
  },
  {
   "cell_type": "code",
   "execution_count": null,
   "metadata": {},
   "outputs": [],
   "source": [
    "# Calculate the mean age"
   ]
  },
  {
   "cell_type": "code",
   "execution_count": 69,
   "metadata": {},
   "outputs": [
    {
     "name": "stdout",
     "output_type": "stream",
     "text": [
      "Mean Age: 33.333333333333336\n"
     ]
    }
   ],
   "source": [
    "ages = np.array(data_without_header.map(lambda x: float(x[1])).collect())\n",
    "\n",
    "# Calculate mean using NumPy\n",
    "mean_age = np.mean(ages)\n",
    "\n",
    "print(\"Mean Age:\", mean_age)\n"
   ]
  },
  {
   "cell_type": "code",
   "execution_count": null,
   "metadata": {},
   "outputs": [],
   "source": [
    "# Calculate the amount of the data"
   ]
  },
  {
   "cell_type": "code",
   "execution_count": 75,
   "metadata": {},
   "outputs": [
    {
     "name": "stdout",
     "output_type": "stream",
     "text": [
      "Sum of Amounts 2200.0\n"
     ]
    }
   ],
   "source": [
    "import numpy as np\n",
    "amount = np.array(data_without_header.map(lambda x: float(x[2])).collect())\n",
    "\n",
    "# Calculate standard deviation using NumPy\n",
    "std_dev = np.sum(amount)\n",
    "\n",
    "print(\"Sum of Amounts\", std_dev)"
   ]
  },
  {
   "cell_type": "code",
   "execution_count": null,
   "metadata": {},
   "outputs": [],
   "source": []
  }
 ],
 "metadata": {
  "kernelspec": {
   "display_name": "Python 3",
   "language": "python",
   "name": "python3"
  },
  "language_info": {
   "codemirror_mode": {
    "name": "ipython",
    "version": 3
   },
   "file_extension": ".py",
   "mimetype": "text/x-python",
   "name": "python",
   "nbconvert_exporter": "python",
   "pygments_lexer": "ipython3",
   "version": "3.7.6"
  }
 },
 "nbformat": 4,
 "nbformat_minor": 4
}
